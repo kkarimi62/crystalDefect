{
 "cells": [
  {
   "cell_type": "markdown",
   "id": "cded12cf",
   "metadata": {
    "toc": true
   },
   "source": [
    "<h1>Table of Contents<span class=\"tocSkip\"></span></h1>\n",
    "<div class=\"toc\"><ul class=\"toc-item\"><li><span><a href=\"#import-libs\" data-toc-modified-id=\"import-libs-1\"><span class=\"toc-item-num\">1&nbsp;&nbsp;</span>import libs</a></span></li><li><span><a href=\"#set-parameters\" data-toc-modified-id=\"set-parameters-2\"><span class=\"toc-item-num\">2&nbsp;&nbsp;</span>set parameters</a></span></li><li><span><a href=\"#Parse-Lammps-dump-file\" data-toc-modified-id=\"Parse-Lammps-dump-file-3\"><span class=\"toc-item-num\">3&nbsp;&nbsp;</span>Parse Lammps dump file</a></span></li><li><span><a href=\"#Energy\" data-toc-modified-id=\"Energy-4\"><span class=\"toc-item-num\">4&nbsp;&nbsp;</span>Energy</a></span><ul class=\"toc-item\"><li><span><a href=\"#main()\" data-toc-modified-id=\"main()-4.1\"><span class=\"toc-item-num\">4.1&nbsp;&nbsp;</span>main()</a></span></li></ul></li><li><span><a href=\"#Train-NN\" data-toc-modified-id=\"Train-NN-5\"><span class=\"toc-item-num\">5&nbsp;&nbsp;</span>Train NN</a></span></li></ul></div>"
   ]
  },
  {
   "cell_type": "markdown",
   "id": "4117638d",
   "metadata": {},
   "source": [
    "# import libs"
   ]
  },
  {
   "cell_type": "code",
   "execution_count": 36,
   "id": "49343b35",
   "metadata": {},
   "outputs": [
    {
     "name": "stdout",
     "output_type": "stream",
     "text": [
      "conf. file sections: ['flags', 'input files', 'EnergyBarrier', 'neural net']\n"
     ]
    },
    {
     "ename": "ModuleNotFoundError",
     "evalue": "No module named 'dscribe'",
     "output_type": "error",
     "traceback": [
      "\u001b[0;31m---------------------------------------------------------------------------\u001b[0m",
      "\u001b[0;31mModuleNotFoundError\u001b[0m                       Traceback (most recent call last)",
      "\u001b[0;32m<ipython-input-36-a5d04960608e>\u001b[0m in \u001b[0;36m<module>\u001b[0;34m\u001b[0m\n\u001b[1;32m      9\u001b[0m \u001b[0;32mimport\u001b[0m \u001b[0msys\u001b[0m\u001b[0;34m\u001b[0m\u001b[0;34m\u001b[0m\u001b[0m\n\u001b[1;32m     10\u001b[0m \u001b[0msys\u001b[0m\u001b[0;34m.\u001b[0m\u001b[0mpath\u001b[0m\u001b[0;34m.\u001b[0m\u001b[0mappend\u001b[0m\u001b[0;34m(\u001b[0m\u001b[0mconfParser\u001b[0m\u001b[0;34m[\u001b[0m\u001b[0;34m'input files'\u001b[0m\u001b[0;34m]\u001b[0m\u001b[0;34m[\u001b[0m\u001b[0;34m'lib_path'\u001b[0m\u001b[0;34m]\u001b[0m\u001b[0;34m)\u001b[0m\u001b[0;34m\u001b[0m\u001b[0;34m\u001b[0m\u001b[0m\n\u001b[0;32m---> 11\u001b[0;31m \u001b[0;32mfrom\u001b[0m \u001b[0mdscribe\u001b[0m\u001b[0;34m.\u001b[0m\u001b[0mdescriptors\u001b[0m \u001b[0;32mimport\u001b[0m \u001b[0mSOAP\u001b[0m\u001b[0;34m,\u001b[0m \u001b[0mACSF\u001b[0m\u001b[0;34m\u001b[0m\u001b[0;34m\u001b[0m\u001b[0m\n\u001b[0m\u001b[1;32m     12\u001b[0m \u001b[0;32mimport\u001b[0m \u001b[0mase\u001b[0m\u001b[0;34m\u001b[0m\u001b[0;34m\u001b[0m\u001b[0m\n\u001b[1;32m     13\u001b[0m \u001b[0;32mimport\u001b[0m \u001b[0mase\u001b[0m\u001b[0;34m.\u001b[0m\u001b[0mio\u001b[0m\u001b[0;34m\u001b[0m\u001b[0;34m\u001b[0m\u001b[0m\n",
      "\u001b[0;31mModuleNotFoundError\u001b[0m: No module named 'dscribe'"
     ]
    }
   ],
   "source": [
    "import configparser\n",
    "confParser = configparser.ConfigParser()\n",
    "\n",
    "#--- parse conf. file\n",
    "confParser.read('configuration.ini')\n",
    "print('conf. file sections:',confParser.sections())\n",
    "#\n",
    "import os\n",
    "import sys\n",
    "sys.path.append(confParser['input files']['lib_path'])\n",
    "from dscribe.descriptors import SOAP, ACSF\n",
    "import ase\n",
    "import ase.io\n",
    "import ase.build\n",
    "from ase.io import lammpsdata\n",
    "import pdb\n",
    "import time\n",
    "import numpy as np\n",
    "import pandas as pd\n",
    "import traceback\n",
    "import matplotlib.pyplot as plt\n",
    "if not eval(confParser['flags']['RemoteMachine']):\n",
    "    plt.rc('text', usetex=True)\n",
    "#\n",
    "import sklearn\n",
    "from sklearn.neural_network import MLPRegressor, MLPClassifier\n",
    "from sklearn.datasets import make_regression\n",
    "from sklearn.model_selection import train_test_split, GridSearchCV\n",
    "from sklearn.decomposition import PCA\n",
    "from sklearn.metrics import confusion_matrix\n",
    "from sklearn.preprocessing import StandardScaler\n",
    "#\n",
    "from scipy.stats import gaussian_kde\n",
    "\n",
    "#--- user modules\n",
    "import LammpsPostProcess as lp\n",
    "import utility as utl\n",
    "import imp\n",
    "imp.reload(utl)\n",
    "imp.reload(lp)\n"
   ]
  },
  {
   "cell_type": "markdown",
   "id": "584a2e60",
   "metadata": {},
   "source": [
    "# Train NN"
   ]
  },
  {
   "cell_type": "code",
   "execution_count": 2,
   "id": "9cd8c31d",
   "metadata": {
    "scrolled": false
   },
   "outputs": [],
   "source": [
    "class NeuralNetwork():\n",
    "\n",
    "    def __init__(self, verbose=False,\n",
    "                **kwargs\n",
    "                ):\n",
    "        self.verbose = verbose\n",
    "        for key in kwargs:\n",
    "            setattr(self,key,kwargs[key])\n",
    "    \n",
    "    def Parse(self,path,nruns):\n",
    "        descriptors = {}\n",
    "        self.perAtomData = {}\n",
    "        for irun in range(nruns):\n",
    "            try:\n",
    "                descriptors[irun]    = np.load('%s/Run%s/descriptors.npy'%(path,irun))\n",
    "                data = np.loadtxt('%s/Run%s/perAtomData.txt'%(path,irun))\n",
    "                self.perAtomData[irun] = pd.DataFrame(np.c_[data],\n",
    "                columns='id\ttype\tx\ty\tz\tux\tuy\tuz\tenergy_barrier\tdefect_label'.split()\n",
    "                            )\n",
    "            except:\n",
    "                if self.verbose:\n",
    "                    traceback.print_exc()\n",
    "                continue\n",
    "                \n",
    "        \n",
    "        self.nruns = list(self.perAtomData.keys())\n",
    "        \n",
    "        #--- same configurations\n",
    "        self.descriptors = descriptors[self.nruns[0]]\n",
    "        \n",
    "    def Combine(self):\n",
    "        \n",
    "        #--- center atoms\n",
    "        center_atom_indices = list(map(lambda x:NeuralNetwork.GetCenterAtom( self.perAtomData[x])[0],self.nruns))\n",
    "        sdict = dict(zip(center_atom_indices,self.nruns))\n",
    "        \n",
    "        atom_ids = list(sdict.keys())\n",
    "        #         center_atom_indices = list( set( center_atom_indices ) )\n",
    "        data = np.concatenate(list(map(lambda x: np.c_[self.perAtomData[sdict[x]].iloc[ x ]],atom_ids)),axis=1).T\n",
    "    \n",
    "        #--- data frame\n",
    "#        print(data.shape)\n",
    "        irun = self.nruns[0]\n",
    "        df_combined = pd.DataFrame(data,columns=list(self.perAtomData[irun].keys()))\n",
    "    \n",
    "        #--- filter crystaliine atoms\n",
    "        filtr = self.perAtomData[irun].defect_label == 0.0\n",
    "        df_crystalline = self.perAtomData[irun][filtr]\n",
    "        \n",
    "        #--- merge\n",
    "        keys = list(df_combined.keys())\n",
    "        data_concat = np.concatenate([np.c_[df_combined[keys]],np.c_[df_crystalline[keys]]],axis=0) \n",
    "        self.perAtomData = pd.DataFrame(data_concat,\n",
    "                              columns=keys\n",
    "                             )\n",
    "\n",
    "        \n",
    "        #--- filter descriptors\n",
    "        filtr[atom_ids] = True\n",
    "        self.descriptors = self.descriptors[filtr]\n",
    "        \n",
    "        assert self.perAtomData.shape[ 0 ] == self.descriptors.shape[0], 'need more mc swaps: %s %s'\\\n",
    "        %(self.perAtomData.shape[ 0 ],self.descriptors.shape[0])\n",
    "                            \n",
    "                                 \n",
    "    \n",
    "    @staticmethod\n",
    "    def GetCenterAtom(df):\n",
    "        disp_magnitude = df.ux**2+df.uy**2+df.uz**2\n",
    "        center_atom_indx = disp_magnitude.sort_values(ascending=False).index[0]\n",
    "        return center_atom_indx, int(df.iloc[ center_atom_indx ].id)\n",
    "\n",
    "    @staticmethod\n",
    "    def zscore(slist):\n",
    "        tmp = np.copy(slist)\n",
    "        print(np.mean(tmp),np.std(tmp))\n",
    "        tmp -= np.mean(tmp)\n",
    "        tmp /= np.std(tmp)\n",
    "        return tmp\n",
    "\n",
    "    def PCA(self,\n",
    "           n_components=2,\n",
    "            random_state = 1,\n",
    "           ):\n",
    "        #--- concat. data\n",
    "        X = self.descriptors\n",
    "        pca = PCA(n_components=n_components,random_state=random_state)\n",
    "        pca.fit(X)\n",
    "        X_transformed = pca.transform(X)\n",
    "\n",
    "        xdata = X_transformed[:,0]\n",
    "        ydata = X_transformed[:,1]\n",
    "        #\n",
    "        filtr_defects = self.perAtomData.defect_label == 0.0\n",
    "        #\n",
    "\n",
    "        legend = utl.Legends()\n",
    "        legend.Set(bbox_to_anchor=(1.1,.5, 0.5, 0.5))\n",
    "#         pdb.set_trace()\n",
    "        #ax = utl.PltErr(zscore(xdata)[filtr_defects],zscore(ydata)[filtr_defects],\n",
    "        ax = utl.PltErr(xdata[filtr_defects],ydata[filtr_defects],\n",
    "                  attrs={'fmt':'x','alpha':1,'label':'defect_free'},\n",
    "                        Plot = False,\n",
    "        #                 xlim=(-2,2),\n",
    "        #                 ylim=(-2,2),\n",
    "                  )\n",
    "\n",
    "        #utl.PltErr(zscore(xdata)[~filtr_defects],zscore(ydata)[~filtr_defects],\n",
    "        !mkdir png\n",
    "        utl.PltErr(xdata[~filtr_defects],ydata[~filtr_defects],\n",
    "                  attrs={'fmt':'.','color':'red','label':'defects'},\n",
    "                   ax=ax,\n",
    "                   xstr='pca_1',ystr='pca_2',\n",
    "                   legend = legend.Get(),\n",
    "                   title='png/pca.png'\n",
    "                  )\n",
    "    def Spectra(self,\n",
    "               nrows=100,\n",
    "               ):\n",
    "        assert nrows <= self.descriptors.shape[ 0 ]\n",
    "        !mkdir png\n",
    "        utl.PltBitmap(np.log10(np.abs(self.descriptors[:nrows,:])),\n",
    "                      xlabel=r'$\\mathrm{ndim}$',ylabel=r'$\\mathrm{natom}$',\n",
    "                      xlim=(0,self.descriptors.shape[1]),\n",
    "                      ylim=(0,nrows),\n",
    "                      colorbar=True,\n",
    "                      zscore=False,\n",
    "                      vminmax=(-3,3),\n",
    "                      title='png/feature_bitmap.png'\n",
    "                     )\n",
    "        \n",
    "    def TrainClassifier(self,y,\n",
    "                       random_state=1,\n",
    "                       ):\n",
    "        #--- train-test split\n",
    "        X = np.c_[self.descriptors]\n",
    "        X_train, X_test, y_train, y_test = train_test_split(X, y, stratify=y,\n",
    "                                                            random_state=random_state)\n",
    "\n",
    "        #--- tune parameters\n",
    "        param_grid = {\n",
    "                        'hidden_layer_sizes':[(100,100)],\n",
    "        #                 'activation' : ['tanh', 'relu'],\n",
    "                         'learning_rate_init':[1e-4],\n",
    "        #                'alpha':[1e-4,1e-3,1e-2], #--- regularization \n",
    "        #               'learning_rate' : ['invscaling', 'adaptive'],\n",
    "\n",
    "                     } \n",
    "\n",
    "        #--- train\n",
    "        mlp = MLPClassifier(random_state=random_state)\n",
    "        clf = GridSearchCV(mlp, param_grid)\n",
    "        clf.fit(X_train,y_train)\n",
    "\n",
    "        #--- validate\n",
    "        !mkdir png\n",
    "        utl.PltErr(range(len(clf.best_estimator_.loss_curve_)), clf.best_estimator_.loss_curve_,\n",
    "                   yscale='log',\n",
    "                   xstr='epoch',ystr='loss',\n",
    "                   title='png/loss.png',\n",
    "                  )\n",
    "\n",
    "\n",
    "        #--- confusion matrix\n",
    "        cm = confusion_matrix(y_test, clf.predict(X_test),\n",
    "                         labels=[0, 1]\n",
    "                        )\n",
    "        print('cm=',cm)\n",
    "\n",
    "    def TrainRegressor(self,stratify,y,\n",
    "                       random_state=1,\n",
    "                       printOvito = False,\n",
    "                       filtr = None,\n",
    "                       ):\n",
    "        if self.verbose:\n",
    "            print('dim(y)=',y.shape)\n",
    "        #--- train-test split\n",
    "        X = np.c_[self.descriptors[filtr]]\n",
    "        X_train, X_test, y_train, y_test = train_test_split(X, y, stratify=stratify,\n",
    "                                                            random_state=random_state)\n",
    "        #--- zscore\n",
    "        scaler = StandardScaler()\n",
    "        scaler.fit(X_train)\n",
    "        X_train_transfrmd = scaler.transform( X_train )\n",
    "        scaler.fit(X_test)\n",
    "        X_test_transfrmd = scaler.transform( X_test )\n",
    "\n",
    "#        pdb.set_trace()\n",
    "        #--- tune parameters\n",
    "        param_grid = {\n",
    "                        'hidden_layer_sizes':self.hidden_layer_sizes,\n",
    " #                        'activation' : ['tanh', 'relu'],\n",
    "                         'learning_rate_init':self.learning_rate_init,\n",
    "                        'alpha':self.alpha, #--- regularization \n",
    "        #               'learning_rate' : ['invscaling', 'adaptive'],\n",
    "                        'n_iter_no_change':self.n_iter_no_change,\n",
    "                        'tol':self.tol,\n",
    "                        'max_iter':self.max_iter,\n",
    "\n",
    "                     } \n",
    "\n",
    "        #--- train\n",
    "        mlp = MLPRegressor(random_state=random_state,verbose=self.verbose)\n",
    "        clf = GridSearchCV(mlp, param_grid)\n",
    "        clf.fit(X_train_transfrmd,y_train)\n",
    "\n",
    "        #--- validate\n",
    "        !mkdir png\n",
    "        utl.PltErr(range(len(clf.best_estimator_.loss_curve_)), clf.best_estimator_.loss_curve_,\n",
    "                   attrs={'fmt':'-'},\n",
    "                   yscale='log',xscale='log',\n",
    "                   xlim=(1,self.max_iter[0]),\n",
    "                   xstr='epoch',ystr='loss',\n",
    "                   title='png/loss.png',\n",
    "                  )\n",
    "\n",
    "#         pdb.set_trace()\n",
    "        y_pred = clf.best_estimator_.predict(X_test_transfrmd)        \n",
    "        y_pred_train = clf.best_estimator_.predict(X_train_transfrmd)        \n",
    "        for idime, xstr in zip(range(3),'ux uy uz'.split()):\n",
    "            ax = utl.PltErr(None,None,Plot=False)\n",
    "            #\n",
    "            utl.PltErr(y_test[:,idime],y_pred[:,idime],\n",
    "                       attrs={'fmt':'x','color':'red','zorder':10,'markersize':6},\n",
    "                       ax=ax,\n",
    "                       Plot = False,\n",
    "\n",
    "                      )\n",
    "            #\n",
    "            utl.PltErr(y_train[:,idime],y_pred_train[:,idime],\n",
    "                       attrs={'fmt':'.','color':'blue','zorder':1,'markersize':6},\n",
    "                       ax=ax,\n",
    "                       Plot = False,\n",
    "\n",
    "                      )\n",
    "            #\n",
    "            utl.PltErr(None,None,Plot=False,\n",
    "                           title='png/scatter%s.png'%idime,\n",
    "                            ax=ax,\n",
    "                       xstr='%s actual'%xstr,ystr='%s predicted'%xstr,\n",
    "                       xlim=(-2,2),ylim=(-2,2),\n",
    "                           )\n",
    "            \n",
    "        if printOvito:\n",
    "            X_train, X_test, _, _ = train_test_split(self.perAtomData[filtr]['id type x y z'.split()], y, stratify=stratify,\n",
    "                                                    random_state=random_state)\n",
    "#            pdb.set_trace()\n",
    "            with open('original.xyz','w') as fp:\n",
    "                utl.PrintOvito(self.perAtomData[filtr], fp, '0', attr_list='id type x y z ux uy uz'.split())\n",
    "            with open('train.xyz','w') as fp:\n",
    "                cordc = pd.DataFrame(np.c_[X_train,y_pred_train],columns='id type x y z ux uy uz'.split())\n",
    "                utl.PrintOvito(cordc, fp, '0', attr_list='id type x y z ux uy uz'.split())\n",
    "            with open('test.xyz','w') as fp:\n",
    "                cordc = pd.DataFrame(np.c_[X_test,y_pred],columns='id type x y z ux uy uz'.split())\n",
    "                utl.PrintOvito(cordc, fp, '0', attr_list='id type x y z ux uy uz'.split())\n",
    "\n"
   ]
  },
  {
   "cell_type": "markdown",
   "id": "a0f8fc70",
   "metadata": {},
   "source": [
    "## main()"
   ]
  },
  {
   "cell_type": "code",
   "execution_count": 23,
   "id": "dfe6a63d",
   "metadata": {
    "scrolled": true
   },
   "outputs": [
    {
     "data": {
      "text/html": [
       "<div>\n",
       "<style scoped>\n",
       "    .dataframe tbody tr th:only-of-type {\n",
       "        vertical-align: middle;\n",
       "    }\n",
       "\n",
       "    .dataframe tbody tr th {\n",
       "        vertical-align: top;\n",
       "    }\n",
       "\n",
       "    .dataframe thead th {\n",
       "        text-align: right;\n",
       "    }\n",
       "</style>\n",
       "<table border=\"1\" class=\"dataframe\">\n",
       "  <thead>\n",
       "    <tr style=\"text-align: right;\">\n",
       "      <th></th>\n",
       "      <th>id</th>\n",
       "      <th>type</th>\n",
       "      <th>x</th>\n",
       "      <th>y</th>\n",
       "      <th>z</th>\n",
       "      <th>ux</th>\n",
       "      <th>uy</th>\n",
       "      <th>uz</th>\n",
       "      <th>energy_barrier</th>\n",
       "      <th>defect_label</th>\n",
       "    </tr>\n",
       "  </thead>\n",
       "  <tbody>\n",
       "    <tr>\n",
       "      <th>0</th>\n",
       "      <td>130.0</td>\n",
       "      <td>1.0</td>\n",
       "      <td>16.305105</td>\n",
       "      <td>18.075106</td>\n",
       "      <td>12.744001</td>\n",
       "      <td>1.725966</td>\n",
       "      <td>1.725967</td>\n",
       "      <td>0.000004</td>\n",
       "      <td>0.996858</td>\n",
       "      <td>1.0</td>\n",
       "    </tr>\n",
       "    <tr>\n",
       "      <th>1</th>\n",
       "      <td>608.0</td>\n",
       "      <td>1.0</td>\n",
       "      <td>19.802895</td>\n",
       "      <td>18.075106</td>\n",
       "      <td>12.744001</td>\n",
       "      <td>-1.725967</td>\n",
       "      <td>1.725967</td>\n",
       "      <td>0.000002</td>\n",
       "      <td>0.996834</td>\n",
       "      <td>1.0</td>\n",
       "    </tr>\n",
       "    <tr>\n",
       "      <th>2</th>\n",
       "      <td>1.0</td>\n",
       "      <td>1.0</td>\n",
       "      <td>19.823929</td>\n",
       "      <td>18.054071</td>\n",
       "      <td>19.823696</td>\n",
       "      <td>0.000000</td>\n",
       "      <td>0.000000</td>\n",
       "      <td>0.000000</td>\n",
       "      <td>inf</td>\n",
       "      <td>0.0</td>\n",
       "    </tr>\n",
       "    <tr>\n",
       "      <th>3</th>\n",
       "      <td>2.0</td>\n",
       "      <td>1.0</td>\n",
       "      <td>0.353771</td>\n",
       "      <td>16.284138</td>\n",
       "      <td>2.124210</td>\n",
       "      <td>0.000000</td>\n",
       "      <td>0.000000</td>\n",
       "      <td>0.000000</td>\n",
       "      <td>inf</td>\n",
       "      <td>0.0</td>\n",
       "    </tr>\n",
       "    <tr>\n",
       "      <th>4</th>\n",
       "      <td>3.0</td>\n",
       "      <td>1.0</td>\n",
       "      <td>18.054001</td>\n",
       "      <td>16.284338</td>\n",
       "      <td>5.664271</td>\n",
       "      <td>0.000000</td>\n",
       "      <td>0.000000</td>\n",
       "      <td>0.000000</td>\n",
       "      <td>inf</td>\n",
       "      <td>0.0</td>\n",
       "    </tr>\n",
       "    <tr>\n",
       "      <th>5</th>\n",
       "      <td>4.0</td>\n",
       "      <td>1.0</td>\n",
       "      <td>3.893790</td>\n",
       "      <td>12.744229</td>\n",
       "      <td>16.283861</td>\n",
       "      <td>0.000000</td>\n",
       "      <td>0.000000</td>\n",
       "      <td>0.000000</td>\n",
       "      <td>inf</td>\n",
       "      <td>0.0</td>\n",
       "    </tr>\n",
       "    <tr>\n",
       "      <th>6</th>\n",
       "      <td>5.0</td>\n",
       "      <td>1.0</td>\n",
       "      <td>9.204130</td>\n",
       "      <td>5.663917</td>\n",
       "      <td>0.354000</td>\n",
       "      <td>0.000000</td>\n",
       "      <td>0.000000</td>\n",
       "      <td>0.000000</td>\n",
       "      <td>inf</td>\n",
       "      <td>0.0</td>\n",
       "    </tr>\n",
       "    <tr>\n",
       "      <th>7</th>\n",
       "      <td>6.0</td>\n",
       "      <td>1.0</td>\n",
       "      <td>12.744174</td>\n",
       "      <td>9.204157</td>\n",
       "      <td>3.894202</td>\n",
       "      <td>0.000000</td>\n",
       "      <td>0.000000</td>\n",
       "      <td>0.000000</td>\n",
       "      <td>inf</td>\n",
       "      <td>0.0</td>\n",
       "    </tr>\n",
       "    <tr>\n",
       "      <th>8</th>\n",
       "      <td>7.0</td>\n",
       "      <td>1.0</td>\n",
       "      <td>21.593409</td>\n",
       "      <td>2.123056</td>\n",
       "      <td>9.204592</td>\n",
       "      <td>0.000000</td>\n",
       "      <td>0.000000</td>\n",
       "      <td>0.000000</td>\n",
       "      <td>inf</td>\n",
       "      <td>0.0</td>\n",
       "    </tr>\n",
       "    <tr>\n",
       "      <th>9</th>\n",
       "      <td>8.0</td>\n",
       "      <td>1.0</td>\n",
       "      <td>0.353836</td>\n",
       "      <td>9.204105</td>\n",
       "      <td>23.363893</td>\n",
       "      <td>0.000000</td>\n",
       "      <td>0.000000</td>\n",
       "      <td>0.000000</td>\n",
       "      <td>inf</td>\n",
       "      <td>0.0</td>\n",
       "    </tr>\n",
       "    <tr>\n",
       "      <th>10</th>\n",
       "      <td>9.0</td>\n",
       "      <td>1.0</td>\n",
       "      <td>5.664000</td>\n",
       "      <td>9.204113</td>\n",
       "      <td>10.974059</td>\n",
       "      <td>0.000000</td>\n",
       "      <td>0.000000</td>\n",
       "      <td>0.000000</td>\n",
       "      <td>inf</td>\n",
       "      <td>0.0</td>\n",
       "    </tr>\n",
       "    <tr>\n",
       "      <th>11</th>\n",
       "      <td>10.0</td>\n",
       "      <td>1.0</td>\n",
       "      <td>10.974181</td>\n",
       "      <td>7.434000</td>\n",
       "      <td>18.053842</td>\n",
       "      <td>0.000000</td>\n",
       "      <td>0.000000</td>\n",
       "      <td>0.000000</td>\n",
       "      <td>inf</td>\n",
       "      <td>0.0</td>\n",
       "    </tr>\n",
       "    <tr>\n",
       "      <th>12</th>\n",
       "      <td>11.0</td>\n",
       "      <td>1.0</td>\n",
       "      <td>18.054001</td>\n",
       "      <td>10.974038</td>\n",
       "      <td>10.974050</td>\n",
       "      <td>0.000000</td>\n",
       "      <td>0.000000</td>\n",
       "      <td>0.000000</td>\n",
       "      <td>inf</td>\n",
       "      <td>0.0</td>\n",
       "    </tr>\n",
       "  </tbody>\n",
       "</table>\n",
       "</div>"
      ],
      "text/plain": [
       "       id  type          x          y          z        ux        uy  \\\n",
       "0   130.0   1.0  16.305105  18.075106  12.744001  1.725966  1.725967   \n",
       "1   608.0   1.0  19.802895  18.075106  12.744001 -1.725967  1.725967   \n",
       "2     1.0   1.0  19.823929  18.054071  19.823696  0.000000  0.000000   \n",
       "3     2.0   1.0   0.353771  16.284138   2.124210  0.000000  0.000000   \n",
       "4     3.0   1.0  18.054001  16.284338   5.664271  0.000000  0.000000   \n",
       "5     4.0   1.0   3.893790  12.744229  16.283861  0.000000  0.000000   \n",
       "6     5.0   1.0   9.204130   5.663917   0.354000  0.000000  0.000000   \n",
       "7     6.0   1.0  12.744174   9.204157   3.894202  0.000000  0.000000   \n",
       "8     7.0   1.0  21.593409   2.123056   9.204592  0.000000  0.000000   \n",
       "9     8.0   1.0   0.353836   9.204105  23.363893  0.000000  0.000000   \n",
       "10    9.0   1.0   5.664000   9.204113  10.974059  0.000000  0.000000   \n",
       "11   10.0   1.0  10.974181   7.434000  18.053842  0.000000  0.000000   \n",
       "12   11.0   1.0  18.054001  10.974038  10.974050  0.000000  0.000000   \n",
       "\n",
       "          uz  energy_barrier  defect_label  \n",
       "0   0.000004        0.996858           1.0  \n",
       "1   0.000002        0.996834           1.0  \n",
       "2   0.000000             inf           0.0  \n",
       "3   0.000000             inf           0.0  \n",
       "4   0.000000             inf           0.0  \n",
       "5   0.000000             inf           0.0  \n",
       "6   0.000000             inf           0.0  \n",
       "7   0.000000             inf           0.0  \n",
       "8   0.000000             inf           0.0  \n",
       "9   0.000000             inf           0.0  \n",
       "10  0.000000             inf           0.0  \n",
       "11  0.000000             inf           0.0  \n",
       "12  0.000000             inf           0.0  "
      ]
     },
     "metadata": {},
     "output_type": "display_data"
    }
   ],
   "source": [
    " def main():\n",
    "        \n",
    "    nn = NeuralNetwork(\n",
    "                        hidden_layer_sizes = eval(confParser['neural net']['hidden_layer_sizes']),\n",
    "                        learning_rate_init = eval(confParser['neural net']['learning_rate_init']),\n",
    "                        n_iter_no_change = eval(confParser['neural net']['n_iter_no_change']),\n",
    "                        tol = eval(confParser['neural net']['tol']),\n",
    "                        max_iter= eval(confParser['neural net']['max_iter']),\n",
    "                        alpha= eval(confParser['neural net']['alpha']),\n",
    "                        \n",
    "#                         verbose=True\n",
    "    )\n",
    "    nn.Parse(path=confParser['neural net']['input_path'],\n",
    "             nruns=eval(confParser['neural net']['nruns']))\n",
    "    nn.Combine()\n",
    "#     tmp = nn.df_combined.set_index('id')\n",
    "    display(nn.perAtomData.iloc[:13])\n",
    "    #    \n",
    "#    nn.PCA()\n",
    "#    nn.Spectra()\n",
    "#    nn.TrainClassifier(np.c_[nn.perAtomData.defect_label].astype(int))\n",
    "    train_type = int(eval(confParser['neural net']['train_type']))\n",
    "    filtr = {\n",
    "             0: nn.perAtomData.defect_label == 1.0, #--- only defetive atoms\n",
    "             1: np.ones(len(nn.perAtomData),dtype=bool), #--- every atom\n",
    "            }[train_type]\n",
    "    stratify = {\n",
    "                0:None,\n",
    "                1:np.c_[nn.perAtomData.defect_label].astype(int), #--- ensure same ratio in test and training\n",
    "                }[train_type]\n",
    "    nn.TrainRegressor(  stratify=stratify,\n",
    "                        y=np.c_[nn.perAtomData[filtr]['ux uy uz'.split()]],\n",
    "                        printOvito = True,\n",
    "                        filtr=filtr,\n",
    "                     )\n",
    "    return nn\n",
    "data = main()"
   ]
  },
  {
   "cell_type": "code",
   "execution_count": 138,
   "id": "1be92045",
   "metadata": {},
   "outputs": [
    {
     "name": "stdout",
     "output_type": "stream",
     "text": [
      "[[-1.725966 -1.725967]]\n",
      "(3, 900)\n"
     ]
    }
   ],
   "source": [
    "import numpy as np\n",
    "y=np.c_[[1.725966,1.725967],\n",
    "            [-1.725966,1.725967],\n",
    "            [-1.725966,-1.725967],\n",
    "            [1.725966,-1.725967],\n",
    "           ].T\n",
    "\n",
    "X=np.concatenate([list(map(lambda x:np.load('png/descriptor%s.npy'%x).flatten(),range(4)))],axis=1)\n",
    "\n",
    "#--- zscore\n",
    "scaler = StandardScaler()\n",
    "scaler.fit(X)\n",
    "X_transfrmd = scaler.transform( X )\n",
    "\n",
    "X_train_transfrmd, X_test_transfrmd, y_train, y_test = train_test_split(X_transfrmd, y, test_size=0.25)\n",
    "print(y_test)\n",
    "\n",
    "\n",
    "# X_train_transfrmd = X_transfrmd[0:3,:]\n",
    "# X_test_transfrmd  = X_transfrmd[3:,:]\n",
    "# y_train =y [0:3,:]\n",
    "# y_test=y[3:,:]\n",
    "print(X_train_transfrmd.shape)"
   ]
  },
  {
   "cell_type": "code",
   "execution_count": 131,
   "id": "9c56d633",
   "metadata": {},
   "outputs": [
    {
     "name": "stdout",
     "output_type": "stream",
     "text": [
      "mkdir: png: File exists\r\n"
     ]
    },
    {
     "data": {
      "image/png": "[encoded data removed]",
      "text/plain": [
       "<Figure size 288x288 with 1 Axes>"
      ]
     },
     "metadata": {
      "needs_background": "light"
     },
     "output_type": "display_data"
    },
    {
     "data": {
      "image/png": "[encoded data removed]",
      "text/plain": [
       "<Figure size 288x288 with 1 Axes>"
      ]
     },
     "metadata": {
      "needs_background": "light"
     },
     "output_type": "display_data"
    },
    {
     "data": {
      "image/png": "[encoded data removed]",
      "text/plain": [
       "<Figure size 288x288 with 1 Axes>"
      ]
     },
     "metadata": {
      "needs_background": "light"
     },
     "output_type": "display_data"
    }
   ],
   "source": [
    "\n",
    "#        pdb.set_trace()\n",
    "#--- tune parameters\n",
    "\n",
    "#--- train\n",
    "mlp = MLPRegressor(random_state=1,\n",
    "#                    verbose=True,\n",
    "                   n_iter_no_change=100000,\n",
    "                    max_iter=10000,\n",
    "                   hidden_layer_sizes=(1000,1000),\n",
    "#                    shuffle=False,\n",
    "#                     alpha=1e-1,\n",
    "\n",
    "                  )\n",
    "mlp.fit(X_train_transfrmd,y_train)\n",
    "\n",
    "#--- validate\n",
    "!mkdir png\n",
    "utl.PltErr(range(len(mlp.loss_curve_)), mlp.loss_curve_,\n",
    "           attrs={'fmt':'-'},\n",
    "           yscale='log',xscale='log',\n",
    "#           xlim=(1,self.max_iter[0]),\n",
    "           xstr='epoch',ystr='loss',\n",
    "           title='png/loss.png',\n",
    "          )\n",
    "\n",
    "# #         pdb.set_trace()\n",
    "y_pred =mlp.predict(X_test_transfrmd)        \n",
    "y_pred_train = mlp.predict(X_train_transfrmd)        \n",
    "for idime, xstr in zip(range(2),'ux uy'.split()):\n",
    "    ax = utl.PltErr(None,None,Plot=False)\n",
    "    #\n",
    "    utl.PltErr(y_test[:,idime],y_pred[:,idime],\n",
    "               attrs={'fmt':'x','color':'red','zorder':10,'markersize':6},\n",
    "               ax=ax,\n",
    "               Plot = False,\n",
    "\n",
    "              )\n",
    "    #\n",
    "    utl.PltErr(y_train[:,idime],y_pred_train[:,idime],\n",
    "               attrs={'fmt':'.','color':'blue','zorder':1,'markersize':6},\n",
    "               ax=ax,\n",
    "               Plot = False,\n",
    "\n",
    "              )\n",
    "    #\n",
    "    utl.PltErr(None,None,Plot=False,\n",
    "                   title='png/scatter%s.png'%idime,\n",
    "                    ax=ax,\n",
    "               xstr='%s actual'%xstr,ystr='%s predicted'%xstr,\n",
    "               xlim=(-3,3),ylim=(-3,3),\n",
    "                   )\n",
    "\n",
    "\n"
   ]
  },
  {
   "cell_type": "code",
   "execution_count": 132,
   "id": "5e1353cf",
   "metadata": {},
   "outputs": [
    {
     "data": {
      "text/plain": [
       "(0.001494340180948677, 0.001494340180948677)"
      ]
     },
     "execution_count": 132,
     "metadata": {},
     "output_type": "execute_result"
    }
   ],
   "source": [
    "mlp.best_loss_, mlp.loss_"
   ]
  },
  {
   "cell_type": "code",
   "execution_count": 133,
   "id": "157c537c",
   "metadata": {},
   "outputs": [
    {
     "data": {
      "image/png": "[encoded data removed]",
      "text/plain": [
       "<Figure size 288x288 with 1 Axes>"
      ]
     },
     "metadata": {
      "needs_background": "light"
     },
     "output_type": "display_data"
    },
    {
     "data": {
      "text/plain": [
       "<AxesSubplot:>"
      ]
     },
     "execution_count": 133,
     "metadata": {},
     "output_type": "execute_result"
    }
   ],
   "source": [
    "ux,uy=mlp.predict(X_test_transfrmd)[0]\n",
    "ax=utl.PltErr([0,ux],[0,uy],\n",
    "              Plot=False\n",
    "          )\n",
    "utl.PltErr([0,y_test[0][0]],[0,y_test[0][1]],\n",
    "           xlim=(-3,3),ylim=(-3,3),\n",
    "            ax=ax\n",
    "          )"
   ]
  },
  {
   "cell_type": "code",
   "execution_count": 134,
   "id": "a952ec87",
   "metadata": {},
   "outputs": [
    {
     "data": {
      "text/plain": [
       "(-4.171900182364385, -4.498185920512211)"
      ]
     },
     "execution_count": 134,
     "metadata": {},
     "output_type": "execute_result"
    }
   ],
   "source": [
    "ux,uy"
   ]
  },
  {
   "cell_type": "code",
   "execution_count": 27,
   "id": "ce616c74",
   "metadata": {},
   "outputs": [
    {
     "data": {
      "text/plain": [
       "<AxesSubplot:>"
      ]
     },
     "execution_count": 27,
     "metadata": {},
     "output_type": "execute_result"
    },
    {
     "data": {
      "image/png": "[encoded data removed]",
      "text/plain": [
       "<Figure size 400x400 with 1 Axes>"
      ]
     },
     "metadata": {},
     "output_type": "display_data"
    }
   ],
   "source": [
    "# ax = utl.PltErr(None,None,Plot=False)\n",
    "\n",
    "# for i in range(2):\n",
    "#     utl.PltErr(range(data.descriptors[0,:].shape[0]),data.descriptors[i,:],\n",
    "#               attrs={'fmt':'-'},#,'color':'C0'},\n",
    "#                xscale='log',yscale='log',\n",
    "#                ax=ax,\n",
    "#                Plot=False,\n",
    "#               )\n",
    "\n",
    "# utl.PltErr(range(data.descriptors[100,:].shape[0]),data.descriptors[100,:],\n",
    "#           attrs={'fmt':'-','color':'C0'},\n",
    "#            xscale='log',yscale='log',\n",
    "#            ax=ax,\n",
    "#            Plot=False,\n",
    "#           )\n"
   ]
  },
  {
   "cell_type": "code",
   "execution_count": 26,
   "id": "a5598bf7",
   "metadata": {},
   "outputs": [
    {
     "name": "stdout",
     "output_type": "stream",
     "text": [
      "mkdir: png: File exists\r\n"
     ]
    },
    {
     "data": {
      "image/png": "[encoded data removed]",
      "text/plain": [
       "<Figure size 400x400 with 2 Axes>"
      ]
     },
     "metadata": {},
     "output_type": "display_data"
    }
   ],
   "source": [
    "# data.Spectra(nrows=100)"
   ]
  },
  {
   "cell_type": "code",
   "execution_count": 76,
   "id": "3c2a8977",
   "metadata": {
    "scrolled": false
   },
   "outputs": [],
   "source": [
    "#help(MLPRegressor)"
   ]
  },
  {
   "cell_type": "code",
   "execution_count": 74,
   "id": "1d061978",
   "metadata": {
    "scrolled": true
   },
   "outputs": [
    {
     "data": {
      "text/plain": [
       "0.01"
      ]
     },
     "execution_count": 74,
     "metadata": {},
     "output_type": "execute_result"
    }
   ],
   "source": [
    "# from sklearn.neural_network import MLPRegressor\n",
    "# from sklearn.datasets import make_regression\n",
    "# from sklearn.model_selection import train_test_split\n",
    "# X, y = make_regression(n_samples=200, random_state=1)\n",
    "# X_train, X_test, y_train, y_test = train_test_split(X, y,\n",
    "#                                                     random_state=1)\n",
    "# regr = MLPRegressor(verbose=False,\n",
    "#                     random_state=1, \n",
    "# #                     learning_rate='adaptive',\n",
    "# #                    early_stopping=True, \n",
    "#                      n_iter_no_change=1, \n",
    "#                     tol=1e-2,\n",
    "#                      max_iter=10000000,\n",
    "# #                     solver='sgd',\n",
    "#                    ).fit(X_train, y_train)\n",
    "# regr.tol\n"
   ]
  },
  {
   "cell_type": "code",
   "execution_count": 5,
   "id": "c99ca02d",
   "metadata": {},
   "outputs": [],
   "source": [
    "from tensorflow.keras.datasets import mnist\n",
    "from tensorflow import keras\n",
    "from tensorflow.keras import layers"
   ]
  },
  {
   "cell_type": "code",
   "execution_count": 2,
   "id": "887689b1",
   "metadata": {},
   "outputs": [
    {
     "name": "stdout",
     "output_type": "stream",
     "text": [
      "Downloading data from https://storage.googleapis.com/tensorflow/tf-keras-datasets/mnist.npz\n",
      "11493376/11490434 [==============================] - 10s 1us/step\n"
     ]
    }
   ],
   "source": [
    "# (train_images, train_labels), (test_images, test_labels) = mnist.load_data()"
   ]
  },
  {
   "cell_type": "code",
   "execution_count": 143,
   "id": "f3cc8c30",
   "metadata": {
    "scrolled": true
   },
   "outputs": [],
   "source": [
    "import matplotlib.pyplot as plt\n",
    "plt.rc('text', usetex=True)\n",
    "\n",
    "#help(model.compile)\n",
    "#import tensorflow as tf\n",
    " \n",
    "#dir(tf.losses)"
   ]
  },
  {
   "cell_type": "code",
   "execution_count": 145,
   "id": "0a27a81f",
   "metadata": {},
   "outputs": [
    {
     "name": "stdout",
     "output_type": "stream",
     "text": [
      "mkdir: png: File exists\r\n"
     ]
    },
    {
     "data": {
      "image/png": "[encoded data removed]",
      "text/plain": [
       "<Figure size 288x288 with 1 Axes>"
      ]
     },
     "metadata": {
      "needs_background": "light"
     },
     "output_type": "display_data"
    },
    {
     "data": {
      "image/png": "[encoded data removed]",
      "text/plain": [
       "<Figure size 288x288 with 1 Axes>"
      ]
     },
     "metadata": {
      "needs_background": "light"
     },
     "output_type": "display_data"
    },
    {
     "data": {
      "image/png": "[encoded data removed]",
      "text/plain": [
       "<Figure size 288x288 with 1 Axes>"
      ]
     },
     "metadata": {
      "needs_background": "light"
     },
     "output_type": "display_data"
    }
   ],
   "source": [
    "#--- The network architecture\n",
    "model = keras.Sequential([\n",
    "    layers.Dense(512), #activation=\"relu\"),\n",
    "#     layers.Dense(1000), #activation=\"relu\"),\n",
    "    layers.Dense(2) #, activation=\"relu\")\n",
    "    ])\n",
    "\n",
    "#--- The compilation step\n",
    "optimizer = tf.keras.optimizers.Adam() #learning_rate=1e-4)\n",
    "model.compile( optimizer=optimizer,#\"rmsprop\",\n",
    "               loss=\"mean_squared_error\",#\"sparse_categorical_crossentropy\",\n",
    "               metrics=[\"mse\"]\n",
    "             )\n",
    "\n",
    "#--- Preparing the image data\n",
    "# train_images = train_images.reshape((60000, 28 * 28))\n",
    "# train_images = train_images.astype(\"float32\") / 255\n",
    "# test_images = test_images.reshape((10000, 28 * 28))\n",
    "# test_images = test_images.astype(\"float32\") / 255\n",
    "\n",
    "#--- “Fitting” the model X_train_transfrmd,y_train\n",
    "model.fit(X_train_transfrmd, y_train, epochs=100, verbose=False)#, batch_size=128)\n",
    "\n",
    "#--- validate\n",
    "!mkdir png\n",
    "loss = model.history.history['loss']\n",
    "\n",
    "utl.PltErr(range(len(loss)), loss,\n",
    "           attrs={'fmt':'-'},\n",
    "           yscale='log',xscale='log',\n",
    "#           xlim=(1,self.max_iter[0]),\n",
    "           xstr='epoch',ystr='loss',\n",
    "           title='png/loss.png',\n",
    "          )\n",
    "\n",
    "# #         pdb.set_trace()\n",
    "y_pred =model.predict(X_test_transfrmd)        \n",
    "y_pred_train = model.predict(X_train_transfrmd)        \n",
    "for idime, xstr in zip(range(2),'ux uy'.split()):\n",
    "    ax = utl.PltErr(None,None,Plot=False)\n",
    "    #\n",
    "    utl.PltErr(y_test[:,idime],y_pred[:,idime],\n",
    "               attrs={'fmt':'x','color':'red','zorder':10,'markersize':6},\n",
    "               ax=ax,\n",
    "               Plot = False,\n",
    "\n",
    "              )\n",
    "    #\n",
    "    utl.PltErr(y_train[:,idime],y_pred_train[:,idime],\n",
    "               attrs={'fmt':'.','color':'blue','zorder':1,'markersize':6},\n",
    "               ax=ax,\n",
    "               Plot = False,\n",
    "\n",
    "              )\n",
    "    #\n",
    "    utl.PltErr(None,None,Plot=False,\n",
    "                   title='png/scatter%s.png'%idime,\n",
    "                    ax=ax,\n",
    "               xstr='%s actual'%xstr,ystr='%s predicted'%xstr,\n",
    "               xlim=(-3,3),ylim=(-3,3),\n",
    "                   )"
   ]
  },
  {
   "cell_type": "code",
   "execution_count": null,
   "id": "9fa9c9f0",
   "metadata": {},
   "outputs": [],
   "source": []
  }
 ],
 "metadata": {
  "kernelspec": {
   "display_name": "gnnEnv",
   "language": "python",
   "name": "myenv"
  },
  "language_info": {
   "codemirror_mode": {
    "name": "ipython",
    "version": 3
   },
   "file_extension": ".py",
   "mimetype": "text/x-python",
   "name": "python",
   "nbconvert_exporter": "python",
   "pygments_lexer": "ipython3",
   "version": "3.7.13"
  },
  "toc": {
   "base_numbering": 1,
   "nav_menu": {},
   "number_sections": true,
   "sideBar": true,
   "skip_h1_title": false,
   "title_cell": "Table of Contents",
   "title_sidebar": "Contents",
   "toc_cell": true,
   "toc_position": {
    "height": "calc(100% - 180px)",
    "left": "10px",
    "top": "150px",
    "width": "476.594px"
   },
   "toc_section_display": true,
   "toc_window_display": true
  }
 },
 "nbformat": 4,
 "nbformat_minor": 5
}
